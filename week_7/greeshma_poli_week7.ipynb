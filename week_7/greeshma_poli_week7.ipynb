{
 "cells": [
  {
   "cell_type": "code",
   "execution_count": 0,
   "metadata": {
    "application/vnd.databricks.v1+cell": {
     "cellMetadata": {
      "byteLimit": 2048000,
      "rowLimit": 10000
     },
     "inputWidgets": {},
     "nuid": "bbfc7a4d-4d21-4771-a351-6c3431e680f9",
     "showTitle": false,
     "tableResultSettingsMap": {},
     "title": ""
    }
   },
   "outputs": [
    {
     "output_type": "stream",
     "name": "stderr",
     "output_type": "stream",
     "text": [
      "  % Total    % Received % Xferd  Average Speed   Time    Time     Time  Current\n                                 Dload  Upload   Total   Spent    Left  Speed\n\r  0     0    0     0    0     0      0      0 --:--:-- --:--:-- --:--:--     0\r  7  752M    7 57.2M    0     0   113M      0  0:00:06 --:--:--  0:00:06  113M\r 35  752M   35  264M    0     0   176M      0  0:00:04  0:00:01  0:00:03  176M\r 68  752M   68  512M    0     0   204M      0  0:00:03  0:00:02  0:00:01  204M\r 82  752M   82  618M    0     0   176M      0  0:00:04  0:00:03  0:00:01  176M\r 90  752M   90  679M    0     0   150M      0  0:00:04  0:00:04 --:--:--  150M\r 97  752M   97  732M    0     0   131M      0  0:00:05  0:00:05 --:--:--  133M\r100  752M  100  752M    0     0   127M      0  0:00:05  0:00:05 --:--:--  111M\n"
     ]
    },
    {
     "output_type": "stream",
     "name": "stdout",
     "output_type": "stream",
     "text": [
      "Archive:  /tmp/openpayments_2023.zip\n  inflating: /tmp/openpayments_2023/OP_PGYR2023_README_P01302025.txt  \n  inflating: /tmp/openpayments_2023/OP_DTL_OWNRSHP_PGYR2023_P01302025_01212025.csv  \n  inflating: /tmp/openpayments_2023/OP_DTL_GNRL_PGYR2023_P01302025_01212025.csv  \n  inflating: /tmp/openpayments_2023/OP_DTL_RSRCH_PGYR2023_P01302025_01212025.csv  \n  inflating: /tmp/openpayments_2023/OP_REMOVED_DELETED_PGYR2023_P01302025_01212025.csv  \n"
     ]
    }
   ],
   "source": [
    "%%sh\n",
    "# Download the CMS Open Payments ZIP file\n",
    "curl -L https://download.cms.gov/openpayments/PGYR2023_P01302025_01212025.zip -o /tmp/openpayments_2023.zip\n",
    "\n",
    "# Unzip the file to a directory, force overwriting existing files without prompting\n",
    "unzip -o /tmp/openpayments_2023.zip -d /tmp/openpayments_2023"
   ]
  },
  {
   "cell_type": "code",
   "execution_count": 0,
   "metadata": {
    "application/vnd.databricks.v1+cell": {
     "cellMetadata": {
      "byteLimit": 2048000,
      "rowLimit": 10000
     },
     "inputWidgets": {},
     "nuid": "6dedb6cd-a358-4248-9469-cf34ac7dc3d9",
     "showTitle": false,
     "tableResultSettingsMap": {},
     "title": ""
    }
   },
   "outputs": [],
   "source": [
    "# Importing required libraries\n",
    "import os\n",
    "from pyspark.sql import SparkSession\n",
    "from pyspark.sql.functions import col, sum, desc, count\n"
   ]
  },
  {
   "cell_type": "code",
   "execution_count": 0,
   "metadata": {
    "application/vnd.databricks.v1+cell": {
     "cellMetadata": {
      "byteLimit": 2048000,
      "rowLimit": 10000
     },
     "inputWidgets": {},
     "nuid": "4774e9cf-98c5-4a2d-a450-8e76aeeab648",
     "showTitle": false,
     "tableResultSettingsMap": {},
     "title": ""
    }
   },
   "outputs": [
    {
     "output_type": "stream",
     "name": "stdout",
     "output_type": "stream",
     "text": [
      "Out[53]: ['OP_DTL_OWNRSHP_PGYR2023_P01302025_01212025.csv',\n 'OP_DTL_GNRL_PGYR2023_P01302025_01212025.csv',\n 'OP_DTL_RSRCH_PGYR2023_P01302025_01212025.csv',\n 'OP_REMOVED_DELETED_PGYR2023_P01302025_01212025.csv',\n 'OP_PGYR2023_README_P01302025.txt']"
     ]
    }
   ],
   "source": [
    "import os\n",
    "\n",
    "# List the extracted files\n",
    "os.listdir(\"/tmp/openpayments_2023\")"
   ]
  },
  {
   "cell_type": "code",
   "execution_count": 0,
   "metadata": {
    "application/vnd.databricks.v1+cell": {
     "cellMetadata": {
      "byteLimit": 2048000,
      "rowLimit": 10000
     },
     "inputWidgets": {},
     "nuid": "8cbcce00-0327-4e7d-8742-78c7d6fcac83",
     "showTitle": false,
     "tableResultSettingsMap": {},
     "title": ""
    }
   },
   "outputs": [],
   "source": [
    "# Reading the CSV file into a Spark DataFrame\n",
    "df = spark.read.csv(\"file:/tmp/openpayments_2023/OP_DTL_GNRL_PGYR2023_P01302025_01212025.csv\", header=True, inferSchema=True)\n",
    "\n",
    "# Saving it as a Delta table\n",
    "df.write \\\n",
    "    .format(\"delta\") \\\n",
    "    .mode(\"overwrite\") \\\n",
    "    .saveAsTable(\"greeshma_week7_General_openPays_2023\")"
   ]
  },
  {
   "cell_type": "code",
   "execution_count": 0,
   "metadata": {
    "application/vnd.databricks.v1+cell": {
     "cellMetadata": {
      "byteLimit": 2048000,
      "rowLimit": 10000
     },
     "inputWidgets": {},
     "nuid": "adae70c0-a53a-451d-8c49-e801fffeeea3",
     "showTitle": false,
     "tableResultSettingsMap": {},
     "title": ""
    }
   },
   "outputs": [],
   "source": [
    "# Reading the CSV file into a Spark DataFrame\n",
    "df = spark.read.csv(\"dbfs:/FileStore/shared_uploads/greeshma.poli@slu.edu/OP_CVRD_RCPNT_PRFL_SPLMTL_P01302025_01212025.csv\")\n",
    "\n",
    "# Saving it as a Delta table (use underscores instead of spaces)\n",
    "df.write \\\n",
    "    .format(\"delta\") \\\n",
    "    .mode(\"overwrite\") \\\n",
    "    .saveAsTable(\"Cp_covered_recipients\")"
   ]
  },
  {
   "cell_type": "code",
   "execution_count": 0,
   "metadata": {
    "application/vnd.databricks.v1+cell": {
     "cellMetadata": {
      "byteLimit": 2048000,
      "rowLimit": 10000
     },
     "inputWidgets": {},
     "nuid": "b0576120-ed89-4c13-92db-52a35cf3f2b4",
     "showTitle": false,
     "tableResultSettingsMap": {},
     "title": ""
    }
   },
   "outputs": [
    {
     "output_type": "stream",
     "name": "stdout",
     "output_type": "stream",
     "text": [
      "+--------------------------------------------------------------------------------------------------------------------------------------------------+------+\n|nature_of_payment_or_transfer_of_value                                                                                                            |count |\n+--------------------------------------------------------------------------------------------------------------------------------------------------+------+\n|Compensation for services other than consulting, including serving as faculty or as a speaker at a venue other than a continuing education program|164092|\n|Consulting Fee                                                                                                                                    |105228|\n|Travel and Lodging                                                                                                                                |24738 |\n|Honoraria                                                                                                                                         |13750 |\n|Education                                                                                                                                         |13376 |\n|Royalty or License                                                                                                                                |11534 |\n|Compensation for serving as faculty or as a speaker for a medical education program                                                               |8658  |\n|Grant                                                                                                                                             |4922  |\n|Space rental or facility fees (teaching hospital only)                                                                                            |4917  |\n|Long term medical supply or device loan                                                                                                           |2930  |\n+--------------------------------------------------------------------------------------------------------------------------------------------------+------+\nonly showing top 10 rows\n\n"
     ]
    }
   ],
   "source": [
    "# 1. Nature of Payments with reimbursement amounts > $1,000 ordered by count\n",
    "nature_over_1000 = (df_open_payments\n",
    "    .filter(col(\"total_amount_of_payment_usdollars\") > 1000)\n",
    "    .groupBy(\"nature_of_payment_or_transfer_of_value\")\n",
    "    .agg(count(\"nature_of_payment_or_transfer_of_value\").alias(\"count\"))\n",
    "    .orderBy(desc(\"count\"))\n",
    ")\n",
    "nature_over_1000.show(10, truncate=False)"
   ]
  },
  {
   "cell_type": "code",
   "execution_count": 0,
   "metadata": {
    "application/vnd.databricks.v1+cell": {
     "cellMetadata": {
      "byteLimit": 2048000,
      "rowLimit": 10000
     },
     "inputWidgets": {},
     "nuid": "832fd6b1-7d0f-4cdd-8518-557609caeb46",
     "showTitle": false,
     "tableResultSettingsMap": {},
     "title": ""
    }
   },
   "outputs": [
    {
     "output_type": "stream",
     "name": "stdout",
     "output_type": "stream",
     "text": [
      "+--------------------------------------------------------------------------------------------------------------------------------------------------+--------+\n|nature_of_payment_or_transfer_of_value                                                                                                            |count   |\n+--------------------------------------------------------------------------------------------------------------------------------------------------+--------+\n|Food and Beverage                                                                                                                                 |13378464|\n|Travel and Lodging                                                                                                                                |545086  |\n|Compensation for services other than consulting, including serving as faculty or as a speaker at a venue other than a continuing education program|236628  |\n|Consulting Fee                                                                                                                                    |170630  |\n|Education                                                                                                                                         |161078  |\n|Gift                                                                                                                                              |31786   |\n|Honoraria                                                                                                                                         |20232   |\n|Royalty or License                                                                                                                                |15865   |\n|Compensation for serving as faculty or as a speaker for a medical education program                                                               |12234   |\n|Entertainment                                                                                                                                     |7967    |\n+--------------------------------------------------------------------------------------------------------------------------------------------------+--------+\nonly showing top 10 rows\n\n"
     ]
    }
   ],
   "source": [
    "# 2. Top 10 Nature of Payments by count\n",
    "top_10_nature_by_count = (df_open_payments\n",
    "    .groupBy(\"nature_of_payment_or_transfer_of_value\")\n",
    "    .agg(count(\"nature_of_payment_or_transfer_of_value\").alias(\"count\"))\n",
    "    .orderBy(desc(\"count\"))\n",
    ")\n",
    "top_10_nature_by_count.show(10, truncate=False)"
   ]
  },
  {
   "cell_type": "code",
   "execution_count": 0,
   "metadata": {
    "application/vnd.databricks.v1+cell": {
     "cellMetadata": {
      "byteLimit": 2048000,
      "rowLimit": 10000
     },
     "inputWidgets": {},
     "nuid": "e4208d6a-c0be-4799-9e74-89295108ff9f",
     "showTitle": false,
     "tableResultSettingsMap": {},
     "title": ""
    }
   },
   "outputs": [
    {
     "output_type": "stream",
     "name": "stdout",
     "output_type": "stream",
     "text": [
      "+--------------------------------------------------------------------------------------------------------------------------------------------------+--------------------+\n|nature_of_payment_or_transfer_of_value                                                                                                            |total_amount        |\n+--------------------------------------------------------------------------------------------------------------------------------------------------+--------------------+\n|Royalty or License                                                                                                                                |1.19217456302E9     |\n|Compensation for services other than consulting, including serving as faculty or as a speaker at a venue other than a continuing education program|5.946326876500002E8 |\n|Consulting Fee                                                                                                                                    |5.148558758999996E8 |\n|Food and Beverage                                                                                                                                 |3.744878240099897E8 |\n|Travel and Lodging                                                                                                                                |1.7954842378000867E8|\n|Grant                                                                                                                                             |1.1188856182E8      |\n|Acquisitions                                                                                                                                      |7.192577675999999E7 |\n|Education                                                                                                                                         |6.469532594000257E7 |\n|Honoraria                                                                                                                                         |5.585182388999997E7 |\n|Long term medical supply or device loan                                                                                                           |3.009879195E7       |\n+--------------------------------------------------------------------------------------------------------------------------------------------------+--------------------+\nonly showing top 10 rows\n\n"
     ]
    }
   ],
   "source": [
    "# 3. Top 10 Nature of Payments by total amount\n",
    "top_10_nature_by_amount = (df_open_payments\n",
    "    .groupBy(\"nature_of_payment_or_transfer_of_value\")\n",
    "    .agg(sum(\"total_amount_of_payment_usdollars\").alias(\"total_amount\"))\n",
    "    .orderBy(desc(\"total_amount\"))\n",
    ")\n",
    "top_10_nature_by_amount.show(10, truncate=False)"
   ]
  },
  {
   "cell_type": "code",
   "execution_count": 0,
   "metadata": {
    "application/vnd.databricks.v1+cell": {
     "cellMetadata": {
      "byteLimit": 2048000,
      "rowLimit": 10000
     },
     "inputWidgets": {},
     "nuid": "ee5158e2-9538-4701-a2fb-f3c99d79d650",
     "showTitle": false,
     "tableResultSettingsMap": {},
     "title": ""
    }
   },
   "outputs": [
    {
     "output_type": "stream",
     "name": "stdout",
     "output_type": "stream",
     "text": [
      "+------------------------------------------------------------------------------------------------+--------------------+\n|Covered_Recipient_Specialty_1                                                                   |total_amount        |\n+------------------------------------------------------------------------------------------------+--------------------+\n|null                                                                                            |7.936674692300001E8 |\n|Allopathic & Osteopathic Physicians|Orthopaedic Surgery                                         |4.0345021308999825E8|\n|Allopathic & Osteopathic Physicians|Internal Medicine                                           |1.3136300307000063E8|\n|Allopathic & Osteopathic Physicians|Psychiatry & Neurology|Neurology                            |8.979213626000014E7 |\n|Allopathic & Osteopathic Physicians|Neurological Surgery                                        |8.608847857000013E7 |\n|Allopathic & Osteopathic Physicians|Dermatology                                                 |8.320264774000064E7 |\n|Allopathic & Osteopathic Physicians|Internal Medicine|Cardiovascular Disease                    |7.022084115000033E7 |\n|Allopathic & Osteopathic Physicians|Internal Medicine|Hematology & Oncology                     |6.946894121000056E7 |\n|Allopathic & Osteopathic Physicians|Orthopaedic Surgery|Adult Reconstructive Orthopaedic Surgery|6.6772837490000024E7|\n|Allopathic & Osteopathic Physicians|Psychiatry & Neurology|Psychiatry                           |6.329825407000022E7 |\n+------------------------------------------------------------------------------------------------+--------------------+\nonly showing top 10 rows\n\n"
     ]
    }
   ],
   "source": [
    "# 4. Top 10 physician specialties by total amount\n",
    "top_10_specialties_by_amount = (df_open_payments\n",
    "    .groupBy(\"Covered_Recipient_Specialty_1\")\n",
    "    .agg(sum(col(\"Total_Amount_of_Payment_USDollars\").cast(\"double\")).alias(\"total_amount\"))\n",
    "    .orderBy(desc(\"total_amount\"))\n",
    ")\n",
    "top_10_specialties_by_amount.show(10, truncate=False)\n"
   ]
  },
  {
   "cell_type": "code",
   "execution_count": 0,
   "metadata": {
    "application/vnd.databricks.v1+cell": {
     "cellMetadata": {
      "byteLimit": 2048000,
      "rowLimit": 10000
     },
     "inputWidgets": {},
     "nuid": "a3eaa247-0601-4af3-8630-6b3ac4a76992",
     "showTitle": false,
     "tableResultSettingsMap": {},
     "title": ""
    }
   },
   "outputs": [
    {
     "output_type": "stream",
     "name": "stdout",
     "output_type": "stream",
     "text": [
      "root\n |-- Change_Type: string (nullable = true)\n |-- Covered_Recipient_Type: string (nullable = true)\n |-- Teaching_Hospital_CCN: string (nullable = true)\n |-- Teaching_Hospital_ID: string (nullable = true)\n |-- Teaching_Hospital_Name: string (nullable = true)\n |-- Covered_Recipient_Profile_ID: string (nullable = true)\n |-- Covered_Recipient_NPI: string (nullable = true)\n |-- Covered_Recipient_First_Name: string (nullable = true)\n |-- Covered_Recipient_Middle_Name: string (nullable = true)\n |-- Covered_Recipient_Last_Name: string (nullable = true)\n |-- Covered_Recipient_Name_Suffix: string (nullable = true)\n |-- Recipient_Primary_Business_Street_Address_Line1: string (nullable = true)\n |-- Recipient_Primary_Business_Street_Address_Line2: string (nullable = true)\n |-- Recipient_City: string (nullable = true)\n |-- Recipient_State: string (nullable = true)\n |-- Recipient_Zip_Code: string (nullable = true)\n |-- Recipient_Country: string (nullable = true)\n |-- Recipient_Province: string (nullable = true)\n |-- Recipient_Postal_Code: string (nullable = true)\n |-- Covered_Recipient_Primary_Type_1: string (nullable = true)\n |-- Covered_Recipient_Primary_Type_2: string (nullable = true)\n |-- Covered_Recipient_Primary_Type_3: string (nullable = true)\n |-- Covered_Recipient_Primary_Type_4: string (nullable = true)\n |-- Covered_Recipient_Primary_Type_5: string (nullable = true)\n |-- Covered_Recipient_Primary_Type_6: string (nullable = true)\n |-- Covered_Recipient_Specialty_1: string (nullable = true)\n |-- Covered_Recipient_Specialty_2: string (nullable = true)\n |-- Covered_Recipient_Specialty_3: string (nullable = true)\n |-- Covered_Recipient_Specialty_4: string (nullable = true)\n |-- Covered_Recipient_Specialty_5: string (nullable = true)\n |-- Covered_Recipient_Specialty_6: string (nullable = true)\n |-- Covered_Recipient_License_State_code1: string (nullable = true)\n |-- Covered_Recipient_License_State_code2: string (nullable = true)\n |-- Covered_Recipient_License_State_code3: string (nullable = true)\n |-- Covered_Recipient_License_State_code4: string (nullable = true)\n |-- Covered_Recipient_License_State_code5: string (nullable = true)\n |-- Submitting_Applicable_Manufacturer_or_Applicable_GPO_Name: string (nullable = true)\n |-- Applicable_Manufacturer_or_Applicable_GPO_Making_Payment_ID: string (nullable = true)\n |-- Applicable_Manufacturer_or_Applicable_GPO_Making_Payment_Name: string (nullable = true)\n |-- Applicable_Manufacturer_or_Applicable_GPO_Making_Payment_State: string (nullable = true)\n |-- Applicable_Manufacturer_or_Applicable_GPO_Making_Payment_Country: string (nullable = true)\n |-- Total_Amount_of_Payment_USDollars: string (nullable = true)\n |-- Date_of_Payment: string (nullable = true)\n |-- Number_of_Payments_Included_in_Total_Amount: string (nullable = true)\n |-- Form_of_Payment_or_Transfer_of_Value: string (nullable = true)\n |-- Nature_of_Payment_or_Transfer_of_Value: string (nullable = true)\n |-- City_of_Travel: string (nullable = true)\n |-- State_of_Travel: string (nullable = true)\n |-- Country_of_Travel: string (nullable = true)\n |-- Physician_Ownership_Indicator: string (nullable = true)\n |-- Third_Party_Payment_Recipient_Indicator: string (nullable = true)\n |-- Name_of_Third_Party_Entity_Receiving_Payment_or_Transfer_of_Value: string (nullable = true)\n |-- Charity_Indicator: string (nullable = true)\n |-- Third_Party_Equals_Covered_Recipient_Indicator: string (nullable = true)\n |-- Contextual_Information: string (nullable = true)\n |-- Delay_in_Publication_Indicator: string (nullable = true)\n |-- Record_ID: string (nullable = true)\n |-- Dispute_Status_for_Publication: string (nullable = true)\n |-- Related_Product_Indicator: string (nullable = true)\n |-- Covered_or_Noncovered_Indicator_1: string (nullable = true)\n |-- Indicate_Drug_or_Biological_or_Device_or_Medical_Supply_1: string (nullable = true)\n |-- Product_Category_or_Therapeutic_Area_1: string (nullable = true)\n |-- Name_of_Drug_or_Biological_or_Device_or_Medical_Supply_1: string (nullable = true)\n |-- Associated_Drug_or_Biological_NDC_1: string (nullable = true)\n |-- Associated_Device_or_Medical_Supply_PDI_1: string (nullable = true)\n |-- Covered_or_Noncovered_Indicator_2: string (nullable = true)\n |-- Indicate_Drug_or_Biological_or_Device_or_Medical_Supply_2: string (nullable = true)\n |-- Product_Category_or_Therapeutic_Area_2: string (nullable = true)\n |-- Name_of_Drug_or_Biological_or_Device_or_Medical_Supply_2: string (nullable = true)\n |-- Associated_Drug_or_Biological_NDC_2: string (nullable = true)\n |-- Associated_Device_or_Medical_Supply_PDI_2: string (nullable = true)\n |-- Covered_or_Noncovered_Indicator_3: string (nullable = true)\n |-- Indicate_Drug_or_Biological_or_Device_or_Medical_Supply_3: string (nullable = true)\n |-- Product_Category_or_Therapeutic_Area_3: string (nullable = true)\n |-- Name_of_Drug_or_Biological_or_Device_or_Medical_Supply_3: string (nullable = true)\n |-- Associated_Drug_or_Biological_NDC_3: string (nullable = true)\n |-- Associated_Device_or_Medical_Supply_PDI_3: string (nullable = true)\n |-- Covered_or_Noncovered_Indicator_4: string (nullable = true)\n |-- Indicate_Drug_or_Biological_or_Device_or_Medical_Supply_4: string (nullable = true)\n |-- Product_Category_or_Therapeutic_Area_4: string (nullable = true)\n |-- Name_of_Drug_or_Biological_or_Device_or_Medical_Supply_4: string (nullable = true)\n |-- Associated_Drug_or_Biological_NDC_4: string (nullable = true)\n |-- Associated_Device_or_Medical_Supply_PDI_4: string (nullable = true)\n |-- Covered_or_Noncovered_Indicator_5: string (nullable = true)\n |-- Indicate_Drug_or_Biological_or_Device_or_Medical_Supply_5: string (nullable = true)\n |-- Product_Category_or_Therapeutic_Area_5: string (nullable = true)\n |-- Name_of_Drug_or_Biological_or_Device_or_Medical_Supply_5: string (nullable = true)\n |-- Associated_Drug_or_Biological_NDC_5: string (nullable = true)\n |-- Associated_Device_or_Medical_Supply_PDI_5: string (nullable = true)\n |-- Program_Year: integer (nullable = true)\n |-- Payment_Publication_Date: string (nullable = true)\n\n"
     ]
    }
   ],
   "source": [
    "df_open_payments.printSchema()\n"
   ]
  },
  {
   "cell_type": "code",
   "execution_count": 0,
   "metadata": {
    "application/vnd.databricks.v1+cell": {
     "cellMetadata": {
      "byteLimit": 2048000,
      "rowLimit": 10000
     },
     "inputWidgets": {},
     "nuid": "53c57f71-33c0-4e8b-989c-6426cc6f812b",
     "showTitle": false,
     "tableResultSettingsMap": {},
     "title": ""
    }
   },
   "outputs": [
    {
     "output_type": "stream",
     "name": "stdout",
     "output_type": "stream",
     "text": [
      "+----------------------------+---------------------------+-----------------+\n|Covered_Recipient_First_Name|Covered_Recipient_Last_Name|total_amount     |\n+----------------------------+---------------------------+-----------------+\n|STEPHEN                     |BURKHART                   |3.392202493E7    |\n|WILLIAM                     |BINDER                     |2.943437497E7    |\n|KEVIN                       |FOLEY                      |1.73059378E7     |\n|IVAN                        |OSORIO                     |1.606551551E7    |\n|GEORGE                      |MAXWELL                    |1.160032024E7    |\n|ROBERT                      |BOOTH                      |8459167.19       |\n|NEAL                        |ELATTRACHE                 |7810628.2        |\n|AARON                       |ROSENBERG                  |6883627.290000001|\n|ROGER                       |JACKSON                    |6615711.26       |\n|PETER                       |BONUTTI                    |6385096.170000001|\n+----------------------------+---------------------------+-----------------+\nonly showing top 10 rows\n\n"
     ]
    }
   ],
   "source": [
    "# 5.  The top ten physicians by total amount\n",
    "top_10_physicians_by_amount = (\n",
    "    df_open_payments\n",
    "    .filter(col(\"Covered_Recipient_First_Name\").isNotNull() & col(\"Covered_Recipient_Last_Name\").isNotNull())  # Only non-null names\n",
    "    .groupBy(\"Covered_Recipient_First_Name\", \"Covered_Recipient_Last_Name\")\n",
    "    .agg(sum(col(\"Total_Amount_of_Payment_USDollars\").cast(\"double\")).alias(\"total_amount\"))\n",
    "    .orderBy(desc(\"total_amount\"))\n",
    ")\n",
    "\n",
    "top_10_physicians_by_amount.show(10, truncate=False)\n"
   ]
  }
 ],
 "metadata": {
  "application/vnd.databricks.v1+notebook": {
   "computePreferences": null,
   "dashboards": [],
   "environmentMetadata": {
    "base_environment": "",
    "client": "1"
   },
   "language": "python",
   "notebookMetadata": {
    "mostRecentlyExecutedCommandWithImplicitDF": {
     "commandId": 810283717368692,
     "dataframes": [
      "_sqldf"
     ]
    },
    "pythonIndentUnit": 4
   },
   "notebookName": "greeshma_poli_week7",
   "widgets": {}
  }
 },
 "nbformat": 4,
 "nbformat_minor": 0
}
