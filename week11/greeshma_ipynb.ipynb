{
  "nbformat": 4,
  "nbformat_minor": 0,
  "metadata": {
    "colab": {
      "provenance": []
    },
    "kernelspec": {
      "name": "python3",
      "display_name": "Python 3"
    },
    "language_info": {
      "name": "python"
    }
  },
  "cells": [
    {
      "cell_type": "code",
      "source": [
        "pip install pyreadr\n"
      ],
      "metadata": {
        "colab": {
          "base_uri": "https://localhost:8080/"
        },
        "id": "lVhUPpGkiC_s",
        "outputId": "72ffb791-9292-4e53-f265-e8e718c2dd6c"
      },
      "execution_count": 4,
      "outputs": [
        {
          "output_type": "stream",
          "name": "stdout",
          "text": [
            "Requirement already satisfied: pyreadr in /usr/local/lib/python3.11/dist-packages (0.5.3)\n",
            "Requirement already satisfied: pandas>=1.2.0 in /usr/local/lib/python3.11/dist-packages (from pyreadr) (2.2.2)\n",
            "Requirement already satisfied: numpy>=1.23.2 in /usr/local/lib/python3.11/dist-packages (from pandas>=1.2.0->pyreadr) (2.0.2)\n",
            "Requirement already satisfied: python-dateutil>=2.8.2 in /usr/local/lib/python3.11/dist-packages (from pandas>=1.2.0->pyreadr) (2.8.2)\n",
            "Requirement already satisfied: pytz>=2020.1 in /usr/local/lib/python3.11/dist-packages (from pandas>=1.2.0->pyreadr) (2025.2)\n",
            "Requirement already satisfied: tzdata>=2022.7 in /usr/local/lib/python3.11/dist-packages (from pandas>=1.2.0->pyreadr) (2025.2)\n",
            "Requirement already satisfied: six>=1.5 in /usr/local/lib/python3.11/dist-packages (from python-dateutil>=2.8.2->pandas>=1.2.0->pyreadr) (1.17.0)\n"
          ]
        }
      ]
    },
    {
      "cell_type": "code",
      "source": [
        "import pyreadr\n",
        "import pandas as pd\n",
        "import xgboost as xgb\n",
        "from sklearn.model_selection import cross_val_score, KFold\n",
        "import time\n",
        "import numpy as np\n",
        "\n",
        "# Mapping sizes to correct RDS filenames\n",
        "size_to_file = {\n",
        "    100: \"bootstrap_data_100.rds\",\n",
        "    1000: \"bootstrap_data_1000.rds\",\n",
        "    10000: \"bootstrap_data_10000.rds\",\n",
        "    100000: \"bootstrap_data_1e+05.rds\",\n",
        "    1000000: \"bootstrap_data_1000000.rds\",\n",
        "    10000000: \"bootstrap_data_10000000.rds\"\n",
        "}\n",
        "\n",
        "cols_x = ['pregnant', 'glucose', 'pressure', 'triceps', 'insulin', 'mass', 'pedigree', 'age']\n",
        "col_y = 'outcome'\n",
        "folds = 5\n",
        "res = []\n",
        "\n",
        "print(f\"Running XGBoost on bootstrap RDS samples\\n\" + \"-\"*40)\n",
        "\n",
        "def run_cv(X, y):\n",
        "    model = xgb.XGBClassifier(\n",
        "        objective='binary:logistic',\n",
        "        eval_metric='logloss',\n",
        "        use_label_encoder=False,\n",
        "        n_jobs=-1\n",
        "    )\n",
        "    cv = KFold(n_splits=folds, shuffle=True, random_state=42)\n",
        "    t0 = time.time()\n",
        "    acc = cross_val_score(model, X, y, cv=cv, scoring='accuracy', n_jobs=-1)\n",
        "    return np.mean(acc), time.time() - t0\n",
        "\n",
        "for sz, file in size_to_file.items():\n",
        "    print(f\"\\nSize: {sz} | File: {file}\")\n",
        "    try:\n",
        "        t0 = time.time()\n",
        "        result = pyreadr.read_r(file)\n",
        "        df = result[None]  # Only one object in RDS\n",
        "\n",
        "        print(f\"Loaded {len(df)} rows in {time.time() - t0:.2f}s\")\n",
        "\n",
        "        if not all(c in df.columns for c in cols_x + [col_y]):\n",
        "            raise ValueError(f\"Missing columns. Found columns: {df.columns.tolist()}\")\n",
        "\n",
        "        X = df[cols_x]\n",
        "        y = df[col_y].astype(int)\n",
        "        print(\"Running CV...\")\n",
        "\n",
        "        acc, t_cv = run_cv(X, y)\n",
        "        print(f\"CV Time: {t_cv:.2f}s | Accuracy: {acc:.4f}\")\n",
        "\n",
        "        res.append({\"Method\": \"XGBoost (Python 5-fold CV)\", \"Size\": sz, \"Accuracy\": acc, \"CV Time (s)\": t_cv})\n",
        "\n",
        "    except Exception as e:\n",
        "        print(f\"Error: {e}\")\n",
        "        res.append({\"Method\": \"XGBoost (Python 5-fold CV)\", \"Size\": sz, \"Accuracy\": \"Error\", \"CV Time (s)\": \"Error\"})\n",
        "\n",
        "# Report\n",
        "print(\"\\n\" + \"=\"*40)\n",
        "print(\"Summary\")\n",
        "print(\"=\"*40)\n",
        "df_res = pd.DataFrame(res)\n",
        "print(df_res.to_string(index=False))\n",
        "df_res.to_csv(\"xgb_results_python.csv\", index=False)\n",
        "print(\"\\nSaved to xgb_results_python.csv\")\n"
      ],
      "metadata": {
        "colab": {
          "base_uri": "https://localhost:8080/"
        },
        "id": "ziUmnmZBiEO0",
        "outputId": "3a04718e-b4f0-48a6-aac7-01400838f9ca"
      },
      "execution_count": 5,
      "outputs": [
        {
          "output_type": "stream",
          "name": "stdout",
          "text": [
            "Running XGBoost on bootstrap RDS samples\n",
            "----------------------------------------\n",
            "\n",
            "Size: 100 | File: bootstrap_data_100.rds\n",
            "Loaded 100 rows in 0.01s\n",
            "Running CV...\n",
            "CV Time: 3.65s | Accuracy: 0.8900\n",
            "\n",
            "Size: 1000 | File: bootstrap_data_1000.rds\n",
            "Loaded 1000 rows in 0.01s\n",
            "Running CV...\n",
            "CV Time: 0.43s | Accuracy: 0.9440\n",
            "\n",
            "Size: 10000 | File: bootstrap_data_10000.rds\n",
            "Loaded 10000 rows in 0.06s\n",
            "Running CV...\n",
            "CV Time: 1.42s | Accuracy: 0.9754\n",
            "\n",
            "Size: 100000 | File: bootstrap_data_1e+05.rds\n",
            "Loaded 100000 rows in 0.31s\n",
            "Running CV...\n",
            "CV Time: 6.68s | Accuracy: 0.9869\n",
            "\n",
            "Size: 1000000 | File: bootstrap_data_1000000.rds\n",
            "Loaded 1000000 rows in 1.22s\n",
            "Running CV...\n",
            "CV Time: 26.67s | Accuracy: 0.9919\n",
            "\n",
            "Size: 10000000 | File: bootstrap_data_10000000.rds\n",
            "Loaded 10000000 rows in 11.87s\n",
            "Running CV...\n"
          ]
        },
        {
          "output_type": "stream",
          "name": "stderr",
          "text": [
            "/usr/local/lib/python3.11/dist-packages/joblib/externals/loky/process_executor.py:752: UserWarning: A worker stopped while some jobs were given to the executor. This can be caused by a too short worker timeout or by a memory leak.\n",
            "  warnings.warn(\n"
          ]
        },
        {
          "output_type": "stream",
          "name": "stdout",
          "text": [
            "CV Time: 288.36s | Accuracy: 0.9931\n",
            "\n",
            "========================================\n",
            "Summary\n",
            "========================================\n",
            "                    Method     Size  Accuracy  CV Time (s)\n",
            "XGBoost (Python 5-fold CV)      100  0.890000     3.647653\n",
            "XGBoost (Python 5-fold CV)     1000  0.944000     0.430796\n",
            "XGBoost (Python 5-fold CV)    10000  0.975400     1.418593\n",
            "XGBoost (Python 5-fold CV)   100000  0.986940     6.675767\n",
            "XGBoost (Python 5-fold CV)  1000000  0.991862    26.669050\n",
            "XGBoost (Python 5-fold CV) 10000000  0.993118   288.356472\n",
            "\n",
            "Saved to xgb_results_python.csv\n"
          ]
        }
      ]
    }
  ]
}