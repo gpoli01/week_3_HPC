{
  "cells": [
    {
      "cell_type": "code",
      "execution_count": 1,
      "id": "4081cf0d",
      "metadata": {
        "colab": {
          "base_uri": "https://localhost:8080/"
        },
        "id": "4081cf0d",
        "outputId": "78f0be55-bcb6-4039-821f-95e6db7dabbf"
      },
      "outputs": [
        {
          "output_type": "stream",
          "name": "stdout",
          "text": [
            "Downloading data from https://storage.googleapis.com/tensorflow/tf-keras-datasets/mnist.npz\n",
            "\u001b[1m11490434/11490434\u001b[0m \u001b[32m━━━━━━━━━━━━━━━━━━━━\u001b[0m\u001b[37m\u001b[0m \u001b[1m1s\u001b[0m 0us/step\n",
            "x_train shape: (60000, 28, 28, 1)\n",
            "60000 train samples\n",
            "10000 test samples\n"
          ]
        }
      ],
      "source": [
        "\n",
        "# Importing the necessary libraries\n",
        "import tensorflow as tf\n",
        "from tensorflow.keras import layers, models\n",
        "from tensorflow.keras.datasets import mnist\n",
        "from tensorflow.keras.utils import to_categorical\n",
        "\n",
        "#  Loading the MNIST dataset\n",
        "(x_train, y_train), (x_test, y_test) = mnist.load_data()\n",
        "\n",
        "# Reshape data to add channel dimension (grayscale images)\n",
        "x_train = x_train.reshape((x_train.shape[0], 28, 28, 1))\n",
        "x_test = x_test.reshape((x_test.shape[0], 28, 28, 1))\n",
        "\n",
        "# Normalizing the pixel values to range 0-1\n",
        "x_train, x_test = x_train / 255.0, x_test / 255.0\n",
        "\n",
        "# One hot encode the labels\n",
        "y_train = to_categorical(y_train)\n",
        "y_test = to_categorical(y_test)\n",
        "\n",
        "# Print the shapes and sample counts (same as original notebook)\n",
        "print(\"x_train shape:\", x_train.shape)\n",
        "print(x_train.shape[0], \"train samples\")\n",
        "print(x_test.shape[0], \"test samples\")\n"
      ]
    },
    {
      "cell_type": "code",
      "execution_count": 2,
      "id": "4b73c1f2",
      "metadata": {
        "colab": {
          "base_uri": "https://localhost:8080/"
        },
        "id": "4b73c1f2",
        "outputId": "32a520d1-2676-4da4-f12a-5c053f1863f1"
      },
      "outputs": [
        {
          "output_type": "stream",
          "name": "stderr",
          "text": [
            "/usr/local/lib/python3.11/dist-packages/keras/src/layers/convolutional/base_conv.py:107: UserWarning: Do not pass an `input_shape`/`input_dim` argument to a layer. When using Sequential models, prefer using an `Input(shape)` object as the first layer in the model instead.\n",
            "  super().__init__(activity_regularizer=activity_regularizer, **kwargs)\n"
          ]
        }
      ],
      "source": [
        "# Build the CNN model\n",
        "model = models.Sequential()\n",
        "\n",
        "# First convolutional layer (feature extraction)\n",
        "model.add(layers.Conv2D(32, (3, 3), activation='relu', input_shape=(28, 28, 1)))\n",
        "model.add(layers.MaxPooling2D((2, 2)))\n",
        "model.add(layers.Dropout(0.25))\n",
        "\n",
        "# Second convolutional layer\n",
        "model.add(layers.Conv2D(64, (3, 3), activation='relu'))\n",
        "model.add(layers.MaxPooling2D((2, 2)))\n",
        "model.add(layers.Dropout(0.25))\n",
        "\n",
        "# Fully connected layers\n",
        "model.add(layers.Flatten())\n",
        "model.add(layers.Dense(128, activation='relu'))\n",
        "model.add(layers.Dropout(0.5))\n",
        "model.add(layers.Dense(10, activation='softmax'))\n"
      ]
    },
    {
      "cell_type": "code",
      "execution_count": 3,
      "id": "39d41d06",
      "metadata": {
        "id": "39d41d06"
      },
      "outputs": [],
      "source": [
        "# Data Augmentation\n",
        "from tensorflow.keras.preprocessing.image import ImageDataGenerator\n",
        "\n",
        "datagen = ImageDataGenerator(\n",
        "    rotation_range=15,\n",
        "    width_shift_range=0.1,\n",
        "    height_shift_range=0.1,\n",
        "    zoom_range=0.1\n",
        ")\n",
        "datagen.fit(x_train)"
      ]
    },
    {
      "cell_type": "code",
      "source": [
        "# Compile the model with Adam optimizer, categorical loss for multi-class classification, and accuracy as metric.\n",
        "\n",
        "model.compile(optimizer='adam',\n",
        "              loss='categorical_crossentropy',\n",
        "              metrics=['accuracy'])\n"
      ],
      "metadata": {
        "id": "i8cW0CD93li9"
      },
      "id": "i8cW0CD93li9",
      "execution_count": 6,
      "outputs": []
    },
    {
      "cell_type": "code",
      "source": [
        "from sklearn.model_selection import train_test_split\n",
        "\n",
        "# Split the data manually\n",
        "x_train_sub, x_val, y_train_sub, y_val = train_test_split(x_train, y_train, test_size=0.1)\n",
        "\n",
        "# Create train generator\n",
        "train_generator = datagen.flow(x_train_sub, y_train_sub, batch_size=64)\n",
        "\n",
        "# Train the model using validation_data\n",
        "history = model.fit(train_generator,\n",
        "                    epochs=5,\n",
        "                    validation_data=(x_val, y_val))\n"
      ],
      "metadata": {
        "colab": {
          "base_uri": "https://localhost:8080/"
        },
        "id": "pgAKGbql4Pn0",
        "outputId": "62536351-fd00-4c4c-e26e-8fdacd9add96"
      },
      "id": "pgAKGbql4Pn0",
      "execution_count": 8,
      "outputs": [
        {
          "output_type": "stream",
          "name": "stdout",
          "text": [
            "Epoch 1/5\n"
          ]
        },
        {
          "output_type": "stream",
          "name": "stderr",
          "text": [
            "/usr/local/lib/python3.11/dist-packages/keras/src/trainers/data_adapters/py_dataset_adapter.py:121: UserWarning: Your `PyDataset` class should call `super().__init__(**kwargs)` in its constructor. `**kwargs` can include `workers`, `use_multiprocessing`, `max_queue_size`. Do not pass these arguments to `fit()`, as they will be ignored.\n",
            "  self._warn_if_super_not_called()\n"
          ]
        },
        {
          "output_type": "stream",
          "name": "stdout",
          "text": [
            "\u001b[1m844/844\u001b[0m \u001b[32m━━━━━━━━━━━━━━━━━━━━\u001b[0m\u001b[37m\u001b[0m \u001b[1m72s\u001b[0m 81ms/step - accuracy: 0.6623 - loss: 1.0031 - val_accuracy: 0.9768 - val_loss: 0.0698\n",
            "Epoch 2/5\n",
            "\u001b[1m844/844\u001b[0m \u001b[32m━━━━━━━━━━━━━━━━━━━━\u001b[0m\u001b[37m\u001b[0m \u001b[1m63s\u001b[0m 75ms/step - accuracy: 0.9121 - loss: 0.2890 - val_accuracy: 0.9812 - val_loss: 0.0529\n",
            "Epoch 3/5\n",
            "\u001b[1m844/844\u001b[0m \u001b[32m━━━━━━━━━━━━━━━━━━━━\u001b[0m\u001b[37m\u001b[0m \u001b[1m62s\u001b[0m 73ms/step - accuracy: 0.9356 - loss: 0.2124 - val_accuracy: 0.9882 - val_loss: 0.0370\n",
            "Epoch 4/5\n",
            "\u001b[1m844/844\u001b[0m \u001b[32m━━━━━━━━━━━━━━━━━━━━\u001b[0m\u001b[37m\u001b[0m \u001b[1m64s\u001b[0m 76ms/step - accuracy: 0.9464 - loss: 0.1735 - val_accuracy: 0.9890 - val_loss: 0.0306\n",
            "Epoch 5/5\n",
            "\u001b[1m844/844\u001b[0m \u001b[32m━━━━━━━━━━━━━━━━━━━━\u001b[0m\u001b[37m\u001b[0m \u001b[1m63s\u001b[0m 74ms/step - accuracy: 0.9536 - loss: 0.1535 - val_accuracy: 0.9897 - val_loss: 0.0318\n"
          ]
        }
      ]
    },
    {
      "cell_type": "markdown",
      "source": [
        "The CNN model was trained for 5 epochs and performed really well. In the first epoch, the training accuracy was 66.23%, which is expected when the model is just beginning to learn. However, the validation accuracy was already quite high at 97.68%, which means the model was able to quickly understand important patterns in the data. As the training continued, the accuracy kept improving and reached 95.36% by the final epoch. At the same time, the validation accuracy also went up and finally reached 98.97%, which is excellent. The loss values also went down, showing that the model was becoming more confident and accurate in its predictions. The small gap between the training and validation accuracy means the model did not overfit and is generalizing well to new, unseen data. Overall, the model learned effectively, performed strongly, and is capable of classifying new images with high accuracy"
      ],
      "metadata": {
        "id": "BWMda5GD-Q6L"
      },
      "id": "BWMda5GD-Q6L"
    },
    {
      "cell_type": "code",
      "execution_count": 9,
      "id": "36019513",
      "metadata": {
        "colab": {
          "base_uri": "https://localhost:8080/"
        },
        "id": "36019513",
        "outputId": "eb6ae260-5838-493e-9ab7-9964ec32c0f3"
      },
      "outputs": [
        {
          "output_type": "stream",
          "name": "stdout",
          "text": [
            "\u001b[1m313/313\u001b[0m \u001b[32m━━━━━━━━━━━━━━━━━━━━\u001b[0m\u001b[37m\u001b[0m \u001b[1m3s\u001b[0m 11ms/step - accuracy: 0.9908 - loss: 0.0273\n",
            "\n",
            "Test loss: 0.023725546896457672\n",
            "Test accuracy: 0.9922000169754028\n"
          ]
        }
      ],
      "source": [
        "\n",
        "# Evaluating the model on test data\n",
        "test_loss, test_acc = model.evaluate(x_test, y_test)\n",
        "print(\"\\nTest loss:\", test_loss)\n",
        "print(\"Test accuracy:\", test_acc)\n"
      ]
    },
    {
      "cell_type": "code",
      "execution_count": 10,
      "id": "bb484b52",
      "metadata": {
        "colab": {
          "base_uri": "https://localhost:8080/"
        },
        "id": "bb484b52",
        "outputId": "2340795b-d4f2-4cd6-b520-1ad16d5badf2"
      },
      "outputs": [
        {
          "output_type": "stream",
          "name": "stdout",
          "text": [
            "\u001b[1m1/1\u001b[0m \u001b[32m━━━━━━━━━━━━━━━━━━━━\u001b[0m\u001b[37m\u001b[0m \u001b[1m0s\u001b[0m 97ms/step\n",
            "Predicted class for first test image: 7\n"
          ]
        }
      ],
      "source": [
        "\n",
        "# Predict by using the trained model\n",
        "import numpy as np\n",
        "\n",
        "sample = np.expand_dims(x_test[0], axis=0)  # Take first test image\n",
        "prediction = model.predict(sample)\n",
        "predicted_class = prediction.argmax()\n",
        "\n",
        "print(\"Predicted class for first test image:\", predicted_class)\n"
      ]
    },
    {
      "cell_type": "code",
      "execution_count": 11,
      "id": "acc63eb4",
      "metadata": {
        "colab": {
          "base_uri": "https://localhost:8080/",
          "height": 428
        },
        "id": "acc63eb4",
        "outputId": "8874ae11-9528-4063-b663-1df6cbe976bb"
      },
      "outputs": [
        {
          "output_type": "display_data",
          "data": {
            "text/plain": [
              "<Figure size 640x480 with 1 Axes>"
            ],
            "image/png": "[encoded data removed]"
          },
          "metadata": {}
        }
      ],
      "source": [
        "# Visualize the prediction\n",
        "import matplotlib.pyplot as plt\n",
        "\n",
        "plt.imshow(x_test[0].reshape(28, 28), cmap='gray')\n",
        "plt.title(f\"Predicted: {predicted_class}, True: {np.argmax(y_test[0])}\")\n",
        "plt.axis('off')\n",
        "plt.show()"
      ]
    },
    {
      "cell_type": "markdown",
      "source": [
        "After the training was finished, the model was tested on new data. It did very well, reaching a test accuracy of 99.22% and having a very low test loss of 0.0237, which means it understood the data properly and made very few mistakes. The model also predicted a sample input and got it right, saying the class was 7, which shows it is ready and works properly. Overall, the results clearly show that the model is accurate, works reliably, and is ready to be used for real tasks."
      ],
      "metadata": {
        "id": "DfEEGL71l5dH"
      },
      "id": "DfEEGL71l5dH"
    }
  ],
  "metadata": {
    "colab": {
      "provenance": []
    },
    "kernelspec": {
      "display_name": "Python 3",
      "name": "python3"
    },
    "language_info": {
      "name": "python"
    }
  },
  "nbformat": 4,
  "nbformat_minor": 5
}